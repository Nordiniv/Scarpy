{
 "cells": [
  {
   "cell_type": "code",
   "execution_count": 1,
   "metadata": {},
   "outputs": [],
   "source": [
    "#Import the necessary libraries\n",
    "from scrapy import Selector\n",
    "import requests\n",
    "import pandas as pd\n",
    "import numpy as np"
   ]
  },
  {
   "cell_type": "code",
   "execution_count": 2,
   "metadata": {},
   "outputs": [],
   "source": [
    "#Set the Xpaths for the data you want to extract\n",
    "xpaths = ['//tr[@class=\"bookRow\"]/td[2]//h3[@itemprop=\"name\"]/a/text()', '//a[@itemprop=\"author\"][1]/text()',\n",
    " '//div[@class=\"bookDetailsBox\"]/div[1]/div[2]/text()',\n",
    " '//tr[@class=\"bookRow\"]/td[2]//td[1]/div[1]/a[1]/text()']\n",
    "\n",
    "#Create a dictionary ot lists for the data we're scraping\n",
    "dict = {0: [], 1: [], 2: [], 3: []}\n",
    "\n",
    "#Iterating over tha 10 pages of the website\n",
    "for  i in range(1, 11): \n",
    "  url = \"https://eg1lib.org/s/social%20media?page={}\".format(i)\n",
    "  html = requests.get(url).content\n",
    "  sel = Selector(text = html)\n",
    "  for i, path in enumerate(xpaths):\n",
    "    dict[i].extend(sel.xpath(path).extract())"
   ]
  },
  {
   "cell_type": "code",
   "execution_count": 3,
   "metadata": {},
   "outputs": [],
   "source": [
    "#Creare a dataframe from the dictionary\n",
    "df = pd.DataFrame(dict)\n",
    "#Change the column names\n",
    "df.columns = [\"Title\", \"Author\",\"Year\", \"Publisher\"]\n"
   ]
  },
  {
   "cell_type": "code",
   "execution_count": 4,
   "metadata": {},
   "outputs": [],
   "source": [
    "#Change the data type of the Year column to integer and NaN non-numeric values\n",
    "df[\"Year\"] = pd.to_numeric(df[\"Year\"], errors='coerce')\n",
    "df[\"Year\"] = df[\"Year\"].astype(pd.Int64Dtype())"
   ]
  },
  {
   "cell_type": "code",
   "execution_count": 5,
   "metadata": {},
   "outputs": [],
   "source": [
    "#Find the rows in which Author is the same as Publisher and set Publisher to NaN\n",
    "df.loc[df[\"Author\"] == df[\"Publisher\"], \"Publisher\"] = pd.NA\n",
    "df[[\"Title\", \"Author\", \"Publisher\"]] = df[[\"Title\", \"Author\", \"Publisher\"]].astype(pd.StringDtype())"
   ]
  },
  {
   "cell_type": "code",
   "execution_count": 6,
   "metadata": {},
   "outputs": [
    {
     "name": "stdout",
     "output_type": "stream",
     "text": [
      "<class 'pandas.core.frame.DataFrame'>\n",
      "RangeIndex: 500 entries, 0 to 499\n",
      "Data columns (total 4 columns):\n",
      " #   Column     Non-Null Count  Dtype \n",
      "---  ------     --------------  ----- \n",
      " 0   Title      500 non-null    string\n",
      " 1   Author     500 non-null    string\n",
      " 2   Year       487 non-null    Int64 \n",
      " 3   Publisher  442 non-null    string\n",
      "dtypes: Int64(1), string(3)\n",
      "memory usage: 16.2 KB\n"
     ]
    }
   ],
   "source": [
    "df.info()"
   ]
  },
  {
   "cell_type": "code",
   "execution_count": 7,
   "metadata": {},
   "outputs": [],
   "source": [
    "#Export to CSV\n",
    "df.to_csv(\"eg1lib.csv\", index=False)"
   ]
  },
  {
   "cell_type": "code",
   "execution_count": 8,
   "metadata": {},
   "outputs": [
    {
     "data": {
      "text/html": [
       "<div>\n",
       "<style scoped>\n",
       "    .dataframe tbody tr th:only-of-type {\n",
       "        vertical-align: middle;\n",
       "    }\n",
       "\n",
       "    .dataframe tbody tr th {\n",
       "        vertical-align: top;\n",
       "    }\n",
       "\n",
       "    .dataframe thead th {\n",
       "        text-align: right;\n",
       "    }\n",
       "</style>\n",
       "<table border=\"1\" class=\"dataframe\">\n",
       "  <thead>\n",
       "    <tr style=\"text-align: right;\">\n",
       "      <th></th>\n",
       "      <th>Title</th>\n",
       "      <th>Author</th>\n",
       "      <th>Year</th>\n",
       "      <th>Publisher</th>\n",
       "    </tr>\n",
       "  </thead>\n",
       "  <tbody>\n",
       "    <tr>\n",
       "      <th>0</th>\n",
       "      <td>500 Social Media Marketing Tips: Essential Adv...</td>\n",
       "      <td>Andrew Macarthy</td>\n",
       "      <td>2017</td>\n",
       "      <td>[Andrew Macarthy]</td>\n",
       "    </tr>\n",
       "    <tr>\n",
       "      <th>1</th>\n",
       "      <td>The Power of Visual Storytelling: How to Use V...</td>\n",
       "      <td>Ekaterina Walter</td>\n",
       "      <td>2014</td>\n",
       "      <td>McGraw-Hill</td>\n",
       "    </tr>\n",
       "    <tr>\n",
       "      <th>2</th>\n",
       "      <td>Social Media Strategy: Marketing, Advertising,...</td>\n",
       "      <td>Keith Quesenberry</td>\n",
       "      <td>2018</td>\n",
       "      <td>Rowman &amp; Littlefield Publishers</td>\n",
       "    </tr>\n",
       "    <tr>\n",
       "      <th>3</th>\n",
       "      <td>Social Media Marketing Mastery (2 Manuscripts ...</td>\n",
       "      <td>Clyne Gary</td>\n",
       "      <td>2019</td>\n",
       "      <td>Gary Clyne</td>\n",
       "    </tr>\n",
       "    <tr>\n",
       "      <th>4</th>\n",
       "      <td>Storytelling: Manipulation of the Audience - H...</td>\n",
       "      <td>Daniel Anderson</td>\n",
       "      <td>2019</td>\n",
       "      <td>&lt;NA&gt;</td>\n",
       "    </tr>\n",
       "    <tr>\n",
       "      <th>5</th>\n",
       "      <td>SOCIAL MEDIA MARKETING AND ONLINE BUSINESS 202...</td>\n",
       "      <td>ALLAN KANE</td>\n",
       "      <td>2020</td>\n",
       "      <td>&lt;NA&gt;</td>\n",
       "    </tr>\n",
       "    <tr>\n",
       "      <th>6</th>\n",
       "      <td>Social Media Marketing 2021-22: Beginner's Gui...</td>\n",
       "      <td>Digital Business Academy [Digital Business Aca...</td>\n",
       "      <td>2021</td>\n",
       "      <td>Independently published</td>\n",
       "    </tr>\n",
       "    <tr>\n",
       "      <th>7</th>\n",
       "      <td>Content Rules: How to Create Killer Blogs, Pod...</td>\n",
       "      <td>Ann Handley</td>\n",
       "      <td>2010</td>\n",
       "      <td>Wiley</td>\n",
       "    </tr>\n",
       "    <tr>\n",
       "      <th>8</th>\n",
       "      <td>The B2B social media book: become a marketing ...</td>\n",
       "      <td>Kipp Bodnar</td>\n",
       "      <td>2012</td>\n",
       "      <td>Wiley</td>\n",
       "    </tr>\n",
       "    <tr>\n",
       "      <th>9</th>\n",
       "      <td>Social Media Marketing All-in-One For Dummies</td>\n",
       "      <td>Jan Zimmerman</td>\n",
       "      <td>2017</td>\n",
       "      <td>John Wiley &amp; Sons</td>\n",
       "    </tr>\n",
       "  </tbody>\n",
       "</table>\n",
       "</div>"
      ],
      "text/plain": [
       "                                               Title  \\\n",
       "0  500 Social Media Marketing Tips: Essential Adv...   \n",
       "1  The Power of Visual Storytelling: How to Use V...   \n",
       "2  Social Media Strategy: Marketing, Advertising,...   \n",
       "3  Social Media Marketing Mastery (2 Manuscripts ...   \n",
       "4  Storytelling: Manipulation of the Audience - H...   \n",
       "5  SOCIAL MEDIA MARKETING AND ONLINE BUSINESS 202...   \n",
       "6  Social Media Marketing 2021-22: Beginner's Gui...   \n",
       "7  Content Rules: How to Create Killer Blogs, Pod...   \n",
       "8  The B2B social media book: become a marketing ...   \n",
       "9      Social Media Marketing All-in-One For Dummies   \n",
       "\n",
       "                                              Author  Year  \\\n",
       "0                                    Andrew Macarthy  2017   \n",
       "1                                   Ekaterina Walter  2014   \n",
       "2                                  Keith Quesenberry  2018   \n",
       "3                                         Clyne Gary  2019   \n",
       "4                                    Daniel Anderson  2019   \n",
       "5                                         ALLAN KANE  2020   \n",
       "6  Digital Business Academy [Digital Business Aca...  2021   \n",
       "7                                        Ann Handley  2010   \n",
       "8                                        Kipp Bodnar  2012   \n",
       "9                                      Jan Zimmerman  2017   \n",
       "\n",
       "                         Publisher  \n",
       "0                [Andrew Macarthy]  \n",
       "1                      McGraw-Hill  \n",
       "2  Rowman & Littlefield Publishers  \n",
       "3                       Gary Clyne  \n",
       "4                             <NA>  \n",
       "5                             <NA>  \n",
       "6          Independently published  \n",
       "7                            Wiley  \n",
       "8                            Wiley  \n",
       "9                John Wiley & Sons  "
      ]
     },
     "execution_count": 8,
     "metadata": {},
     "output_type": "execute_result"
    }
   ],
   "source": [
    "df.head(10)"
   ]
  }
 ],
 "metadata": {
  "kernelspec": {
   "display_name": "Python 3.8.8 ('base')",
   "language": "python",
   "name": "python3"
  },
  "language_info": {
   "codemirror_mode": {
    "name": "ipython",
    "version": 3
   },
   "file_extension": ".py",
   "mimetype": "text/x-python",
   "name": "python",
   "nbconvert_exporter": "python",
   "pygments_lexer": "ipython3",
   "version": "3.8.8"
  },
  "orig_nbformat": 4,
  "vscode": {
   "interpreter": {
    "hash": "8375062d4779c9668d7c9db68bfac82ede37ec64c49be84c786acfbd36f2c831"
   }
  }
 },
 "nbformat": 4,
 "nbformat_minor": 2
}
